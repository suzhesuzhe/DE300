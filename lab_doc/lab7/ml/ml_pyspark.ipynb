{
 "cells": [
  {
   "cell_type": "code",
   "execution_count": 1,
   "id": "27e7f5c5-1f5e-4773-8950-66be75241122",
   "metadata": {},
   "outputs": [],
   "source": [
    "from pyspark.sql import SparkSession\n",
    "from pyspark.sql.types import IntegerType, FloatType, LongType, StringType, DoubleType\n",
    "from pyspark.sql.dataframe import DataFrame\n",
    "from pyspark.sql.functions import col\n",
    "from pyspark.ml import Pipeline, Transformer\n",
    "from pyspark.ml.feature import StringIndexer, VectorAssembler, Imputer\n",
    "from pyspark.ml.classification import RandomForestClassifier\n",
    "from pyspark.ml.tuning import CrossValidator, ParamGridBuilder\n",
    "from pyspark.ml.evaluation import BinaryClassificationEvaluator\n",
    "import pyspark.sql.functions as F\n",
    "from itertools import combinations\n",
    "import os"
   ]
  },
  {
   "cell_type": "code",
   "execution_count": null,
   "id": "55f0ac94-ae99-42c8-8528-3b62b4e191ba",
   "metadata": {},
   "outputs": [],
   "source": [
    "\n"
   ]
  },
  {
   "cell_type": "markdown",
   "id": "1e4a5270-37a8-4a0e-9663-2f0c09b88269",
   "metadata": {},
   "source": [
    "## Check Python Path"
   ]
  },
  {
   "cell_type": "code",
   "execution_count": 2,
   "id": "a06b828d-1d7a-41a3-8929-703028401ffc",
   "metadata": {},
   "outputs": [
    {
     "data": {
      "text/plain": [
       "'/tmp/demos/bin/python3'"
      ]
     },
     "execution_count": 2,
     "metadata": {},
     "output_type": "execute_result"
    }
   ],
   "source": [
    "import sys\n",
    "sys.executable"
   ]
  },
  {
   "cell_type": "code",
   "execution_count": 3,
   "id": "e12fef7f-59b8-4b2b-b7b6-f2fff328616b",
   "metadata": {},
   "outputs": [],
   "source": [
    "DATA_FOLDER = \"data\"\n",
    "\n",
    "NUMBER_OF_FOLDS = 3\n",
    "SPLIT_SEED = 7576\n",
    "TRAIN_TEST_SPLIT = 0.8"
   ]
  },
  {
   "cell_type": "markdown",
   "id": "0a794b4a-3efa-48bc-a8c3-2df602c90670",
   "metadata": {},
   "source": [
    "## Function for data reading"
   ]
  },
  {
   "cell_type": "code",
   "execution_count": 4,
   "id": "99ab6c2d-df8f-4aaf-bdfe-a6f30efaba24",
   "metadata": {},
   "outputs": [],
   "source": [
    "\n",
    "def read_data(spark: SparkSession) -> DataFrame:\n",
    "    \"\"\"\n",
    "    read data; since the data has the header we let spark guess the schema\n",
    "    \"\"\"\n",
    "    \n",
    "    # Read the Titanic CSV data into a DataFrame\n",
    "    titanic_data = spark.read \\\n",
    "        .format(\"csv\") \\\n",
    "        .option(\"header\", \"true\") \\\n",
    "        .option(\"inferSchema\", \"true\") \\\n",
    "        .load(os.path.join(DATA_FOLDER,\"heart_disease.csv\"))\n",
    "\n",
    "    return titanic_data"
   ]
  },
  {
   "cell_type": "markdown",
   "id": "6ee6afbb-f7ce-4f7a-897b-070bfb496efe",
   "metadata": {},
   "source": [
    "## Writing new Transformer type class : adding cross product of features"
   ]
  },
  {
   "cell_type": "code",
   "execution_count": 5,
   "id": "cef9e877-a67b-4757-96d6-571c8fc02579",
   "metadata": {},
   "outputs": [],
   "source": [
    "class PairwiseProduct(Transformer):\n",
    "\n",
    "    def __init__(self, inputCols, outputCols):\n",
    "        self.__inputCols = inputCols\n",
    "        self.__outputCols = outputCols\n",
    "\n",
    "        self._paramMap = self._params = {}\n",
    "\n",
    "    def _transform(self, df):\n",
    "        for cols, out_col in zip(self.__inputCols, self.__outputCols):\n",
    "            df = df.withColumn(out_col, col(cols[0]) * col(cols[1]))\n",
    "        return df"
   ]
  },
  {
   "cell_type": "markdown",
   "id": "6da37d86-c3aa-43c2-a838-7b072140259e",
   "metadata": {},
   "source": [
    "## The ML pipeline"
   ]
  },
  {
   "cell_type": "code",
   "execution_count": 6,
   "id": "b1d53e22-eb2c-4e85-bf7f-12ec742721a2",
   "metadata": {},
   "outputs": [],
   "source": [
    "\n",
    "\n",
    "def pipeline(data: DataFrame):\n",
    "\n",
    "    \"\"\"\n",
    "    every attribute that is numeric is non-categorical; this is questionable\n",
    "    \"\"\"\n",
    "\n",
    "    numeric_features = [f.name for f in data.schema.fields if isinstance(f.dataType, (DoubleType, FloatType, IntegerType, LongType))]\n",
    "    string_features = [f.name for f in data.schema.fields if isinstance(f.dataType, StringType)]\n",
    "    #numeric_features.remove(\"PassengerId\")\n",
    "    #numeric_features.remove(\"Survived\")\n",
    "    #string_features.remove(\"Name\")\n",
    "    print(numeric_features)\n",
    "    print(string_features)\n",
    "\n",
    "    # Fill missing values for string columns with a placeholder before indexing\n",
    "    data = data.fillna({col: 'null' for col in string_features})\n",
    "    \n",
    "    # Index string features\n",
    "    indexed_string_columns = [f\"{v}Index\" for v in string_features]\n",
    "    indexers = [StringIndexer(inputCol=col, outputCol=indexed_col, handleInvalid='keep') for col, indexed_col in zip(string_features, indexed_string_columns)]\n",
    "\n",
    "    # Impute missing values for indexed string columns\n",
    "    imputed_columns_string = [f\"Imputed{v}\" for v in indexed_string_columns]\n",
    "    imputer_string = Imputer(inputCols=indexed_string_columns, outputCols=imputed_columns_string, strategy=\"mode\")\n",
    "\n",
    "    \n",
    "    # numeric columns\n",
    "    imputed_columns_numeric = [f\"Imputed{v}\" for v in numeric_features]\n",
    "    imputer_numeric = Imputer(inputCols=numeric_features, outputCols=imputed_columns_numeric, strategy = \"mean\")\n",
    "\n",
    "    # Create all pairwise products of numeric features\n",
    "    #all_pairs = [v for v in combinations(imputed_columns_numeric, 2)]\n",
    "    #pairwise_columns = [f\"{col1}_{col2}\" for col1, col2 in all_pairs]\n",
    "    #pairwise_product = PairwiseProduct(inputCols=all_pairs, outputCols=pairwise_columns)\n",
    "\n",
    "    # Assemble feature columns into a single feature vector\n",
    "    assembler = VectorAssembler(\n",
    "        inputCols=imputed_columns_numeric + imputed_columns_string, \n",
    "        outputCol=\"features\"\n",
    "        )\n",
    "\n",
    "    # Create a list of pipeline stages\n",
    "    stages = indexers + [imputer_string, imputer_numeric, assembler]\n",
    "    \n",
    "    # Create and fit the pipeline\n",
    "    pipeline = Pipeline(stages=stages)\n",
    "    model = pipeline.fit(data)\n",
    "    \n",
    "    # Transform the data\n",
    "    transformed_data = model.transform(data)\n",
    "    \n",
    "    return transformed_data\n",
    "\n",
    "    \n",
    "    \n",
    "\n",
    "    "
   ]
  },
  {
   "cell_type": "code",
   "execution_count": 7,
   "id": "00f200e4-2378-423b-98be-f9996c4a699a",
   "metadata": {},
   "outputs": [],
   "source": [
    "def main():\n",
    "    # Create a Spark session\n",
    "    spark = SparkSession.builder \\\n",
    "        .appName(\"Predict Titanic Survival\") \\\n",
    "        .getOrCreate()\n",
    "\n",
    "    try:\n",
    "        # Read data\n",
    "        data = read_data(spark)\n",
    "        \n",
    "        # Print schema and preview the data\n",
    "        data.printSchema()\n",
    "        data.show(5)\n",
    "\n",
    "        # Apply the pipeline\n",
    "        transformed_data = pipeline(data)\n",
    "        \n",
    "        # Show the transformed data, including the imputed columns\n",
    "        columns_to_show = [col for col in transformed_data.columns if col.startswith(\"Imputed\")]\n",
    "        transformed_data.select(columns_to_show).show(truncate=False)\n",
    "        \n",
    "    finally:\n",
    "        # Stop the Spark session\n",
    "        spark.stop()"
   ]
  },
  {
   "cell_type": "code",
   "execution_count": 8,
   "id": "315b3402-ad5f-4e46-a317-e0c3d804963d",
   "metadata": {},
   "outputs": [
    {
     "name": "stderr",
     "output_type": "stream",
     "text": [
      "Setting default log level to \"WARN\".\n",
      "To adjust logging level use sc.setLogLevel(newLevel). For SparkR, use setLogLevel(newLevel).\n",
      "24/05/26 16:33:42 WARN NativeCodeLoader: Unable to load native-hadoop library for your platform... using builtin-java classes where applicable\n"
     ]
    },
    {
     "name": "stdout",
     "output_type": "stream",
     "text": [
      "root\n",
      " |-- age: string (nullable = true)\n",
      " |-- sex: integer (nullable = true)\n",
      " |-- painloc: integer (nullable = true)\n",
      " |-- painexer: integer (nullable = true)\n",
      " |-- relrest: integer (nullable = true)\n",
      " |-- pncaden: string (nullable = true)\n",
      " |-- cp: integer (nullable = true)\n",
      " |-- trestbps: integer (nullable = true)\n",
      " |-- htn: integer (nullable = true)\n",
      " |-- chol: integer (nullable = true)\n",
      " |-- smoke: integer (nullable = true)\n",
      " |-- cigs: integer (nullable = true)\n",
      " |-- years: integer (nullable = true)\n",
      " |-- fbs: integer (nullable = true)\n",
      " |-- dm: integer (nullable = true)\n",
      " |-- famhist: integer (nullable = true)\n",
      " |-- restecg: integer (nullable = true)\n",
      " |-- ekgmo: integer (nullable = true)\n",
      " |-- ekgday(day: integer (nullable = true)\n",
      " |-- ekgyr: integer (nullable = true)\n",
      " |-- dig: integer (nullable = true)\n",
      " |-- prop: integer (nullable = true)\n",
      " |-- nitr: integer (nullable = true)\n",
      " |-- pro: integer (nullable = true)\n",
      " |-- diuretic: integer (nullable = true)\n",
      " |-- proto: integer (nullable = true)\n",
      " |-- thaldur: double (nullable = true)\n",
      " |-- thaltime: double (nullable = true)\n",
      " |-- met: double (nullable = true)\n",
      " |-- thalach: integer (nullable = true)\n",
      " |-- thalrest: integer (nullable = true)\n",
      " |-- tpeakbps: integer (nullable = true)\n",
      " |-- tpeakbpd: integer (nullable = true)\n",
      " |-- dummy: integer (nullable = true)\n",
      " |-- trestbpd: integer (nullable = true)\n",
      " |-- exang: integer (nullable = true)\n",
      " |-- xhypo: integer (nullable = true)\n",
      " |-- oldpeak: double (nullable = true)\n",
      " |-- slope: integer (nullable = true)\n",
      " |-- rldv5: integer (nullable = true)\n",
      " |-- rldv5e: integer (nullable = true)\n",
      " |-- ca: integer (nullable = true)\n",
      " |-- restckm: string (nullable = true)\n",
      " |-- exerckm: integer (nullable = true)\n",
      " |-- restef: double (nullable = true)\n",
      " |-- restwm: integer (nullable = true)\n",
      " |-- exeref: double (nullable = true)\n",
      " |-- exerwm: integer (nullable = true)\n",
      " |-- thal: integer (nullable = true)\n",
      " |-- thalsev: integer (nullable = true)\n",
      " |-- thalpul: integer (nullable = true)\n",
      " |-- earlobe: integer (nullable = true)\n",
      " |-- cmo: integer (nullable = true)\n",
      " |-- cday: integer (nullable = true)\n",
      " |-- cyr: integer (nullable = true)\n",
      " |-- target: integer (nullable = true)\n",
      "\n"
     ]
    },
    {
     "name": "stderr",
     "output_type": "stream",
     "text": [
      "24/05/26 16:33:49 WARN package: Truncated the string representation of a plan since it was too large. This behavior can be adjusted by setting 'spark.sql.debug.maxToStringFields'.\n"
     ]
    },
    {
     "name": "stdout",
     "output_type": "stream",
     "text": [
      "+---+---+-------+--------+-------+-------+---+--------+---+----+-----+----+-----+---+----+-------+-------+-----+----------+-----+---+----+----+---+--------+-----+-------+--------+----+-------+--------+--------+--------+-----+--------+-----+-----+-------+-----+-----+------+---+-------+-------+------+------+------+------+----+-------+-------+-------+---+----+---+------+\n",
      "|age|sex|painloc|painexer|relrest|pncaden| cp|trestbps|htn|chol|smoke|cigs|years|fbs|  dm|famhist|restecg|ekgmo|ekgday(day|ekgyr|dig|prop|nitr|pro|diuretic|proto|thaldur|thaltime| met|thalach|thalrest|tpeakbps|tpeakbpd|dummy|trestbpd|exang|xhypo|oldpeak|slope|rldv5|rldv5e| ca|restckm|exerckm|restef|restwm|exeref|exerwm|thal|thalsev|thalpul|earlobe|cmo|cday|cyr|target|\n",
      "+---+---+-------+--------+-------+-------+---+--------+---+----+-----+----+-----+---+----+-------+-------+-----+----------+-----+---+----+----+---+--------+-----+-------+--------+----+-------+--------+--------+--------+-----+--------+-----+-----+-------+-----+-----+------+---+-------+-------+------+------+------+------+----+-------+-------+-------+---+----+---+------+\n",
      "| 63|  1|   null|    null|   null|   null|  1|     145|  1| 233| null|  50|   20|  1|null|      1|      2|    2|         3|   81|  0|   0|   0|  0|       0|    1|   10.5|     6.0|13.0|    150|      60|     190|      90|  145|      85|    0|    0|    2.3|    3| null|   172|  0|   null|   null|  null|  null|  null|  null|   6|   null|   null|   null|  2|  16| 81|     0|\n",
      "| 67|  1|   null|    null|   null|   null|  4|     160|  1| 286| null|  40|   40|  0|null|      1|      2|    3|         5|   81|  0|   1|   0|  0|       0|    1|    9.5|     6.0|13.0|    108|      64|     160|      90|  160|      90|    1|    0|    1.5|    2| null|   185|  3|   null|   null|  null|  null|  null|  null|   3|   null|   null|   null|  2|   5| 81|     1|\n",
      "| 67|  1|   null|    null|   null|   null|  4|     120|  1| 229| null|  20|   35|  0|null|      1|      2|    2|        19|   81|  0|   1|   0|  0|       0|    1|    8.5|     6.0|10.0|    129|      78|     140|      80|  120|      80|    1|    0|    2.6|    2| null|   150|  2|   null|   null|  null|  null|  null|  null|   7|   null|   null|   null|  2|  20| 81|     1|\n",
      "| 37|  1|   null|    null|   null|   null|  3|     130|  0| 250| null|   0|    0|  0|null|      1|      0|    2|        13|   81|  0|   1|   0|  0|       0|    1|   13.0|    13.0|17.0|    187|      84|     195|      68|  130|      78|    0|    0|    3.5|    3| null|   167|  0|   null|   null|  null|  null|  null|  null|   3|   null|   null|   null|  2|   4| 81|     0|\n",
      "| 41|  0|   null|    null|   null|   null|  2|     130|  1| 204| null|   0|    0|  0|null|      1|      2|    2|         7|   81|  0|   0|   0|  0|       0|    1|    7.0|    null| 9.0|    172|      71|     160|      74|  130|      86|    0|    0|    1.4|    1| null|    40|  0|   null|   null|  null|  null|  null|  null|   3|   null|   null|   null|  2|  18| 81|     0|\n",
      "+---+---+-------+--------+-------+-------+---+--------+---+----+-----+----+-----+---+----+-------+-------+-----+----------+-----+---+----+----+---+--------+-----+-------+--------+----+-------+--------+--------+--------+-----+--------+-----+-----+-------+-----+-----+------+---+-------+-------+------+------+------+------+----+-------+-------+-------+---+----+---+------+\n",
      "only showing top 5 rows\n",
      "\n",
      "['sex', 'painloc', 'painexer', 'relrest', 'cp', 'trestbps', 'htn', 'chol', 'smoke', 'cigs', 'years', 'fbs', 'dm', 'famhist', 'restecg', 'ekgmo', 'ekgday(day', 'ekgyr', 'dig', 'prop', 'nitr', 'pro', 'diuretic', 'proto', 'thaldur', 'thaltime', 'met', 'thalach', 'thalrest', 'tpeakbps', 'tpeakbpd', 'dummy', 'trestbpd', 'exang', 'xhypo', 'oldpeak', 'slope', 'rldv5', 'rldv5e', 'ca', 'exerckm', 'restef', 'restwm', 'exeref', 'exerwm', 'thal', 'thalsev', 'thalpul', 'earlobe', 'cmo', 'cday', 'cyr', 'target']\n",
      "['age', 'pncaden', 'restckm']\n"
     ]
    },
    {
     "name": "stderr",
     "output_type": "stream",
     "text": [
      "                                                                                \r"
     ]
    },
    {
     "name": "stdout",
     "output_type": "stream",
     "text": [
      "+---------------+-------------------+-------------------+----------+--------------+---------------+--------------+---------+---------------+----------+-----------+------------+-----------+------------+----------+---------+--------------+--------------+------------+-----------------+------------+----------+-----------+-----------+----------+---------------+------------+--------------+-----------------+----------+--------------+---------------+---------------+---------------+------------+---------------+------------+------------+--------------+------------+------------+-------------+---------+--------------+------------------+-------------+-------------+-------------+-----------+--------------+--------------+--------------+----------+-----------+----------+-------------+\n",
      "|ImputedageIndex|ImputedpncadenIndex|ImputedrestckmIndex|Imputedsex|Imputedpainloc|Imputedpainexer|Imputedrelrest|Imputedcp|Imputedtrestbps|Imputedhtn|Imputedchol|Imputedsmoke|Imputedcigs|Imputedyears|Imputedfbs|Imputeddm|Imputedfamhist|Imputedrestecg|Imputedekgmo|Imputedekgday(day|Imputedekgyr|Imputeddig|Imputedprop|Imputednitr|Imputedpro|Imputeddiuretic|Imputedproto|Imputedthaldur|Imputedthaltime  |Imputedmet|Imputedthalach|Imputedthalrest|Imputedtpeakbps|Imputedtpeakbpd|Imputeddummy|Imputedtrestbpd|Imputedexang|Imputedxhypo|Imputedoldpeak|Imputedslope|Imputedrldv5|Imputedrldv5e|Imputedca|Imputedexerckm|Imputedrestef     |Imputedrestwm|Imputedexeref|Imputedexerwm|Imputedthal|Imputedthalsev|Imputedthalpul|Imputedearlobe|Imputedcmo|Imputedcday|Imputedcyr|Imputedtarget|\n",
      "+---------------+-------------------+-------------------+----------+--------------+---------------+--------------+---------+---------------+----------+-----------+------------+-----------+------------+----------+---------+--------------+--------------+------------+-----------------+------------+----------+-----------+-----------+----------+---------------+------------+--------------+-----------------+----------+--------------+---------------+---------------+---------------+------------+---------------+------------+------------+--------------+------------+------------+-------------+---------+--------------+------------------+-------------+-------------+-------------+-----------+--------------+--------------+--------------+----------+-----------+----------+-------------+\n",
      "|13.0           |0.0                |0.0                |1         |0             |0              |0             |1        |145            |1         |233        |0           |50         |20          |1         |0        |1             |2             |2           |3                |81          |0         |0          |0          |0         |0              |1           |10.5          |6.0              |13.0      |150           |60             |190            |90             |145         |85             |0           |0           |2.3           |3           |14          |172          |0        |0             |0.5310714285714286|1            |0.55         |0            |6          |1             |0             |0             |2         |16         |81        |0            |\n",
      "|27.0           |0.0                |0.0                |1         |0             |0              |0             |4        |160            |1         |286        |0           |40         |40          |0         |0        |1             |2             |3           |5                |81          |0         |1          |0          |0         |0              |1           |9.5           |6.0              |13.0      |108           |64             |160            |90             |160         |90             |1           |0           |1.5           |2           |14          |185          |3        |0             |0.5310714285714286|1            |0.55         |0            |3          |1             |0             |0             |2         |5          |81        |1            |\n",
      "|27.0           |0.0                |0.0                |1         |0             |0              |0             |4        |120            |1         |229        |0           |20         |35          |0         |0        |1             |2             |2           |19               |81          |0         |1          |0          |0         |0              |1           |8.5           |6.0              |10.0      |129           |78             |140            |80             |120         |80             |1           |0           |2.6           |2           |14          |150          |2        |0             |0.5310714285714286|1            |0.55         |0            |7          |1             |0             |0             |2         |20         |81        |1            |\n",
      "|31.0           |0.0                |0.0                |1         |0             |0              |0             |3        |130            |0         |250        |0           |0          |0           |0         |0        |1             |0             |2           |13               |81          |0         |1          |0          |0         |0              |1           |13.0          |13.0             |17.0      |187           |84             |195            |68             |130         |78             |0           |0           |3.5           |3           |14          |167          |0        |0             |0.5310714285714286|1            |0.55         |0            |3          |1             |0             |0             |2         |4          |81        |0            |\n",
      "|17.0           |0.0                |0.0                |0         |0             |0              |0             |2        |130            |1         |204        |0           |0          |0           |0         |0        |1             |2             |2           |7                |81          |0         |0          |0          |0         |0              |1           |7.0           |5.690358744394617|9.0       |172           |71             |160            |74             |130         |86             |0           |0           |1.4           |1           |14          |40           |0        |0             |0.5310714285714286|1            |0.55         |0            |3          |1             |0             |0             |2         |18         |81        |0            |\n",
      "|4.0            |0.0                |0.0                |1         |0             |0              |0             |2        |120            |1         |236        |0           |20         |20          |0         |0        |1             |0             |3           |9                |81          |1         |0          |0          |0         |0              |1           |11.3          |5.690358744394617|16.0      |178           |73             |165            |70             |120         |75             |0           |0           |0.8           |1           |14          |127          |0        |0             |0.5310714285714286|1            |0.55         |0            |3          |1             |0             |0             |3         |10         |81        |0            |\n",
      "|7.0            |0.0                |0.0                |0         |0             |0              |0             |4        |140            |0         |268        |0           |0          |0           |0         |0        |1             |2             |1           |28               |81          |0         |0          |0          |0         |0              |1           |6.0           |6.0              |7.0       |160           |83             |180            |84             |140         |100            |0           |0           |3.6           |3           |14          |122          |2        |0             |0.5310714285714286|1            |0.55         |0            |3          |1             |0             |0             |2         |2          |81        |1            |\n",
      "|6.0            |0.0                |0.0                |0         |0             |0              |0             |4        |120            |1         |354        |0           |0          |0           |0         |0        |1             |0             |7           |20               |81          |0         |0          |0          |0         |0              |1           |9.0           |6.0              |10.0      |163           |84             |165            |80             |120         |80             |1           |0           |0.6           |1           |14          |122          |0        |0             |0.5310714285714286|1            |0.55         |0            |3          |1             |0             |0             |7         |21         |81        |0            |\n",
      "|13.0           |0.0                |0.0                |1         |0             |0              |0             |4        |130            |1         |254        |0           |0          |0           |0         |0        |0             |2             |7           |2                |81          |0         |1          |1          |0         |0              |1           |8.0           |8.0              |9.0       |147           |75             |120            |70             |130         |105            |0           |0           |1.4           |2           |14          |75           |1        |0             |0.5310714285714286|1            |0.55         |0            |7          |1             |0             |0             |7         |3          |81        |1            |\n",
      "|9.0            |0.0                |0.0                |1         |0             |0              |0             |4        |140            |0         |203        |0           |20         |25          |1         |0        |1             |2             |7           |3                |81          |0         |1          |0          |0         |1              |1           |5.5           |3.0              |7.0       |155           |86             |185            |120            |140         |100            |1           |0           |3.1           |3           |14          |68           |0        |0             |0.5310714285714286|1            |0.55         |0            |7          |1             |0             |0             |7         |6          |81        |1            |\n",
      "|6.0            |0.0                |0.0                |1         |0             |0              |0             |4        |140            |0         |192        |0           |75         |25          |0         |0        |0             |0             |6           |30               |81          |0         |0          |0          |0         |0              |1           |8.2           |5.690358744394617|9.0       |148           |86             |180            |75             |140         |90             |0           |0           |0.4           |2           |14          |200          |0        |0             |0.5310714285714286|1            |0.55         |0            |6          |1             |0             |0             |7         |1          |81        |0            |\n",
      "|4.0            |0.0                |0.0                |0         |0             |0              |0             |2        |140            |0         |294        |0           |0          |0           |0         |0        |0             |2             |1           |16               |81          |0         |1          |1          |0         |0              |1           |4.5           |4.5              |7.0       |153           |85             |204            |118            |140         |100            |0           |0           |1.3           |2           |14          |175          |0        |0             |0.5310714285714286|1            |0.55         |0            |3          |1             |0             |0             |1         |19         |81        |0            |\n",
      "|4.0            |0.0                |0.0                |1         |0             |0              |0             |3        |130            |0         |256        |0           |30         |25          |1         |1        |1             |2             |1           |19               |81          |0         |0          |0          |0         |0              |1           |13.0          |5.690358744394617|16.0      |142           |74             |145            |87             |130         |90             |1           |0           |0.6           |2           |14          |110          |1        |0             |0.5310714285714286|1            |0.55         |0            |6          |1             |0             |0             |1         |20         |81        |1            |\n",
      "|23.0           |0.0                |0.0                |1         |0             |0              |0             |2        |120            |1         |263        |0           |50         |30          |0         |0        |1             |0             |5           |20               |81          |0         |1          |0          |0         |0              |1           |9.3           |5.690358744394617|13.0      |173           |70             |165            |70             |120         |80             |0           |0           |0.0           |1           |14          |49           |0        |0             |0.5310714285714286|1            |0.55         |0            |7          |1             |0             |0             |5         |21         |81        |0            |\n",
      "|3.0            |0.0                |0.0                |1         |0             |0              |0             |3        |172            |0         |199        |0           |30         |35          |1         |0        |0             |0             |6           |9                |81          |0         |0          |0          |0         |0              |1           |12.5          |5.690358744394617|18.0      |162           |91             |220            |96             |172         |100            |0           |0           |0.5           |1           |14          |231          |0        |0             |0.5310714285714286|1            |0.55         |0            |7          |1             |0             |0             |6         |10         |81        |0            |\n",
      "|6.0            |0.0                |0.0                |1         |0             |0              |0             |3        |150            |1         |168        |0           |15         |40          |0         |0        |1             |0             |7           |13               |81          |0         |0          |1          |0         |0              |1           |11.0          |5.690358744394617|13.0      |174           |60             |192            |80             |150         |90             |0           |0           |1.6           |1           |14          |150          |0        |0             |0.5310714285714286|1            |0.55         |0            |3          |1             |0             |0             |7         |14         |81        |0            |\n",
      "|11.0           |0.0                |0.0                |1         |0             |0              |0             |2        |110            |1         |229        |0           |0          |0           |0         |0        |0             |0             |7           |21               |81          |0         |1          |0          |0         |0              |1           |9.8           |5.690358744394617|13.0      |168           |75             |175            |80             |110         |80             |0           |0           |1.0           |3           |14          |197          |0        |0             |0.5310714285714286|1            |0.55         |0            |7          |1             |0             |0             |7         |21         |81        |1            |\n",
      "|0.0            |0.0                |0.0                |1         |0             |0              |0             |4        |140            |1         |239        |0           |20         |30          |0         |0        |0             |0             |6           |24               |81          |0         |0          |0          |0         |1              |1           |7.8           |7.8              |10.0      |160           |86             |180            |98             |140         |100            |0           |0           |1.2           |1           |14          |85           |0        |0             |0.5310714285714286|1            |0.55         |0            |3          |1             |0             |0             |6         |25         |81        |0            |\n",
      "|11.0           |0.0                |0.0                |0         |0             |0              |0             |3        |130            |1         |275        |0           |2          |20          |0         |0        |1             |0             |6           |2                |81          |0         |0          |0          |0         |0              |1           |10.0          |5.690358744394617|13.0      |139           |62             |165            |75             |130         |80             |0           |0           |0.2           |1           |14          |170          |0        |0             |0.5310714285714286|1            |0.55         |0            |3          |1             |0             |0             |6         |3          |81        |0            |\n",
      "|18.0           |0.0                |0.0                |1         |0             |0              |0             |2        |130            |1         |266        |0           |25         |22          |0         |0        |0             |0             |7           |24               |81          |0         |0          |0          |0         |0              |1           |12.0          |5.690358744394617|14.0      |171           |82             |135            |80             |130         |75             |0           |0           |0.6           |1           |14          |127          |0        |0             |0.5310714285714286|1            |0.55         |0            |3          |1             |0             |0             |7         |27         |81        |0            |\n",
      "+---------------+-------------------+-------------------+----------+--------------+---------------+--------------+---------+---------------+----------+-----------+------------+-----------+------------+----------+---------+--------------+--------------+------------+-----------------+------------+----------+-----------+-----------+----------+---------------+------------+--------------+-----------------+----------+--------------+---------------+---------------+---------------+------------+---------------+------------+------------+--------------+------------+------------+-------------+---------+--------------+------------------+-------------+-------------+-------------+-----------+--------------+--------------+--------------+----------+-----------+----------+-------------+\n",
      "only showing top 20 rows\n",
      "\n"
     ]
    }
   ],
   "source": [
    "\n",
    "main()"
   ]
  },
  {
   "cell_type": "code",
   "execution_count": null,
   "id": "0c6ba500-308a-454f-be09-03e495ad9a49",
   "metadata": {},
   "outputs": [],
   "source": []
  }
 ],
 "metadata": {
  "kernelspec": {
   "display_name": "Python 3 (ipykernel)",
   "language": "python",
   "name": "python3"
  },
  "language_info": {
   "codemirror_mode": {
    "name": "ipython",
    "version": 3
   },
   "file_extension": ".py",
   "mimetype": "text/x-python",
   "name": "python",
   "nbconvert_exporter": "python",
   "pygments_lexer": "ipython3",
   "version": "3.10.12"
  }
 },
 "nbformat": 4,
 "nbformat_minor": 5
}
