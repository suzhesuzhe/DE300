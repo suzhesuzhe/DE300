{
 "cells": [
  {
   "cell_type": "code",
   "execution_count": 1,
   "id": "9962e176",
   "metadata": {},
   "outputs": [
    {
     "name": "stdout",
     "output_type": "stream",
     "text": [
      "Requirement already satisfied: boto3 in /home/ubuntu/anaconda3/lib/python3.11/site-packages (1.24.1)\n",
      "Requirement already satisfied: pandas in /home/ubuntu/anaconda3/lib/python3.11/site-packages (1.5.3)\n",
      "Requirement already satisfied: botocore<1.28.0,>=1.27.1 in /home/ubuntu/anaconda3/lib/python3.11/site-packages (from boto3) (1.27.96)\n",
      "Requirement already satisfied: jmespath<2.0.0,>=0.7.1 in /home/ubuntu/anaconda3/lib/python3.11/site-packages (from boto3) (0.10.0)\n",
      "Requirement already satisfied: s3transfer<0.7.0,>=0.6.0 in /home/ubuntu/anaconda3/lib/python3.11/site-packages (from boto3) (0.6.2)\n",
      "Requirement already satisfied: python-dateutil>=2.8.1 in /home/ubuntu/anaconda3/lib/python3.11/site-packages (from pandas) (2.8.2)\n",
      "Requirement already satisfied: pytz>=2020.1 in /home/ubuntu/anaconda3/lib/python3.11/site-packages (from pandas) (2023.3.post1)\n",
      "Requirement already satisfied: numpy>=1.21.0 in /home/ubuntu/anaconda3/lib/python3.11/site-packages (from pandas) (1.24.3)\n",
      "Requirement already satisfied: urllib3<1.27,>=1.25.4 in /home/ubuntu/anaconda3/lib/python3.11/site-packages (from botocore<1.28.0,>=1.27.1->boto3) (1.26.16)\n",
      "Requirement already satisfied: six>=1.5 in /home/ubuntu/anaconda3/lib/python3.11/site-packages (from python-dateutil>=2.8.1->pandas) (1.16.0)\n"
     ]
    }
   ],
   "source": [
    "# Install necessary packages\n",
    "!pip install boto3 pandas\n",
    "\n",
    "# Import required libraries\n",
    "import boto3\n",
    "import pandas as pd\n",
    "from boto3.dynamodb.conditions import Key\n",
    "\n",
    "# Initialize DynamoDB resource\n",
    "dynamodb = boto3.resource('dynamodb', region_name='us-east-2')\n",
    "\n"
   ]
  },
  {
   "cell_type": "code",
   "execution_count": 2,
   "id": "aa539f47",
   "metadata": {},
   "outputs": [],
   "source": [
    "# Function to create a DynamoDB table with a secondary index\n",
    "def create_table():\n",
    "    try:\n",
    "        table = dynamodb.create_table(\n",
    "            TableName='Orders',\n",
    "            KeySchema=[\n",
    "                {\n",
    "                    'AttributeName': 'CustomerID',\n",
    "                    'KeyType': 'HASH'  # Partition key\n",
    "                },\n",
    "                {\n",
    "                    'AttributeName': 'OrderID',\n",
    "                    'KeyType': 'RANGE'  # Sort key\n",
    "                }\n",
    "            ],\n",
    "            AttributeDefinitions=[\n",
    "                {\n",
    "                    'AttributeName': 'CustomerID',\n",
    "                    'AttributeType': 'S'\n",
    "                },\n",
    "                {\n",
    "                    'AttributeName': 'OrderID',\n",
    "                    'AttributeType': 'S'\n",
    "                },\n",
    "                {\n",
    "                    'AttributeName': 'ProductCategory',\n",
    "                    'AttributeType': 'S'\n",
    "                },\n",
    "                {\n",
    "                    'AttributeName': 'OrderDate',\n",
    "                    'AttributeType': 'S'\n",
    "                }\n",
    "            ],\n",
    "            ProvisionedThroughput={\n",
    "                'ReadCapacityUnits': 5,\n",
    "                'WriteCapacityUnits': 5\n",
    "            },\n",
    "            GlobalSecondaryIndexes=[\n",
    "                {\n",
    "                    'IndexName': 'ProductCategoryIndex',\n",
    "                    'KeySchema': [\n",
    "                        {\n",
    "                            'AttributeName': 'ProductCategory',\n",
    "                            'KeyType': 'HASH'\n",
    "                        },\n",
    "                        {\n",
    "                            'AttributeName': 'OrderDate',\n",
    "                            'KeyType': 'RANGE'\n",
    "                        }\n",
    "                    ],\n",
    "                    'Projection': {\n",
    "                        'ProjectionType': 'ALL'\n",
    "                    },\n",
    "                    'ProvisionedThroughput': {\n",
    "                        'ReadCapacityUnits': 5,\n",
    "                        'WriteCapacityUnits': 5\n",
    "                    }\n",
    "                }\n",
    "            ]\n",
    "        )\n",
    "        table.meta.client.get_waiter('table_exists').wait(TableName='Orders')\n",
    "        print(\"Table created successfully.\")\n",
    "    except Exception as e:\n",
    "        print(e)\n",
    "\n"
   ]
  },
  {
   "cell_type": "code",
   "execution_count": 3,
   "id": "981ebafc",
   "metadata": {},
   "outputs": [],
   "source": [
    "\n",
    "# Function to load data from a CSV file and insert into DynamoDB\n",
    "def load_data(csv_file):\n",
    "    table = dynamodb.Table('Orders')\n",
    "    df = pd.read_csv(csv_file)\n",
    "    print(df)\n",
    "    \n",
    "    for index, row in df.iterrows():\n",
    "        table.put_item(\n",
    "            Item={\n",
    "                'CustomerID': row['CustomerID'],\n",
    "                'OrderID': row['OrderID'],\n",
    "                'OrderDate': row['OrderDate'],\n",
    "                'TotalAmount': str(row['TotalAmount']),  # DynamoDB requires numbers as strings in some cases\n",
    "                'ProductCategory': row['ProductCategory'],\n",
    "                'Quantity': int(row['Quantity'])  # Ensure Quantity is an integer\n",
    "            }\n",
    "        )\n",
    "    print(\"Data loaded successfully.\")"
   ]
  },
  {
   "cell_type": "code",
   "execution_count": 4,
   "id": "bc5376c8",
   "metadata": {},
   "outputs": [],
   "source": [
    "# Function to perform a query on the DynamoDB table\n",
    "def query_data(customer_id):\n",
    "    table = dynamodb.Table('Orders')\n",
    "    response = table.query(\n",
    "        KeyConditionExpression=Key('CustomerID').eq(customer_id)\n",
    "    )\n",
    "    return response['Items']\n",
    "\n",
    "# Function to query using a secondary index\n",
    "def query_secondary_index(category, start_date, end_date):\n",
    "    table = dynamodb.Table('Orders')\n",
    "    response = table.query(\n",
    "        IndexName='ProductCategoryIndex',\n",
    "        KeyConditionExpression=Key('ProductCategory').eq(category) & Key('OrderDate').between(start_date, end_date)\n",
    "    )\n",
    "    return response['Items']\n"
   ]
  },
  {
   "cell_type": "code",
   "execution_count": 5,
   "id": "2a98eb72",
   "metadata": {},
   "outputs": [
    {
     "name": "stdout",
     "output_type": "stream",
     "text": [
      "Table created successfully.\n"
     ]
    }
   ],
   "source": [
    "\n",
    "# Create the table\n",
    "create_table()"
   ]
  },
  {
   "cell_type": "code",
   "execution_count": 6,
   "id": "8aa83477",
   "metadata": {},
   "outputs": [
    {
     "name": "stdout",
     "output_type": "stream",
     "text": [
      "   CustomerID OrderID   OrderDate  TotalAmount ProductCategory  Quantity\n",
      "0        C001   O1001  2024-05-27       250.75     Electronics         1\n",
      "1        C001   O1002  2024-05-28       150.50           Books         3\n",
      "2        C002   O1003  2024-05-27       175.50        Clothing         2\n",
      "3        C002   O1004  2024-05-29       200.00     Electronics         1\n",
      "4        C001   O1005  2024-05-30       300.00       Furniture         1\n",
      "5        C003   O1006  2024-05-27       100.00           Books         1\n",
      "6        C003   O1007  2024-05-28        75.00        Clothing         4\n",
      "7        C001   O1008  2024-05-31        80.00           Books         2\n",
      "8        C002   O1009  2024-06-01        60.00        Clothing         1\n",
      "9        C003   O1010  2024-06-01       500.00     Electronics         1\n",
      "10       C001   O1011  2024-06-02       250.00       Furniture         1\n",
      "11       C002   O1012  2024-06-02        90.00           Books         3\n",
      "12       C003   O1013  2024-06-03       400.00     Electronics         2\n",
      "13       C001   O1014  2024-06-03       180.00        Clothing         3\n",
      "14       C002   O1015  2024-06-04       220.00       Furniture         1\n",
      "15       C003   O1016  2024-06-04       140.00           Books         2\n",
      "16       C001   O1017  2024-06-05       300.00     Electronics         1\n",
      "17       C002   O1018  2024-06-05       250.00        Clothing         5\n",
      "18       C003   O1019  2024-06-06       350.00       Furniture         2\n",
      "19       C001   O1020  2024-06-06       275.00           Books         4\n",
      "20       C002   O1021  2024-06-07       225.00     Electronics         1\n",
      "21       C003   O1022  2024-06-07       180.00        Clothing         3\n",
      "22       C001   O1023  2024-06-08       300.00       Furniture         1\n",
      "23       C002   O1024  2024-06-08       100.00           Books         2\n",
      "24       C003   O1025  2024-06-09       450.00     Electronics         2\n",
      "25       C001   O1026  2024-06-09       350.00        Clothing         4\n",
      "26       C002   O1027  2024-06-10       275.00       Furniture         3\n",
      "27       C003   O1028  2024-06-10       150.00           Books         1\n",
      "28       C001   O1029  2024-06-11       400.00     Electronics         2\n",
      "29       C002   O1030  2024-06-11       200.00        Clothing         2\n",
      "30       C003   O1031  2024-06-12       450.00       Furniture         2\n",
      "31       C001   O1032  2024-06-12       500.00           Books         5\n",
      "32       C002   O1033  2024-06-13       550.00     Electronics         1\n",
      "33       C003   O1034  2024-06-13       600.00        Clothing         6\n",
      "Data loaded successfully.\n"
     ]
    }
   ],
   "source": [
    "# Load data from CSV file\n",
    "# Assume the CSV file 'orders.csv' has columns: CustomerID, OrderID, OrderDate, TotalAmount, ProductCategory, Quantity\n",
    "csv_file = './data/orders.csv'\n",
    "load_data(csv_file)"
   ]
  },
  {
   "cell_type": "code",
   "execution_count": 7,
   "id": "79bd235e",
   "metadata": {},
   "outputs": [
    {
     "name": "stdout",
     "output_type": "stream",
     "text": [
      "Query results for CustomerID = C001:\n",
      "{'ProductCategory': 'Electronics', 'Quantity': Decimal('1'), 'TotalAmount': '250.75', 'CustomerID': 'C001', 'OrderDate': '2024-05-27', 'OrderID': 'O1001'}\n",
      "{'ProductCategory': 'Books', 'Quantity': Decimal('3'), 'TotalAmount': '150.5', 'CustomerID': 'C001', 'OrderDate': '2024-05-28', 'OrderID': 'O1002'}\n",
      "{'ProductCategory': 'Furniture', 'Quantity': Decimal('1'), 'TotalAmount': '300.0', 'CustomerID': 'C001', 'OrderDate': '2024-05-30', 'OrderID': 'O1005'}\n",
      "{'ProductCategory': 'Books', 'Quantity': Decimal('2'), 'TotalAmount': '80.0', 'CustomerID': 'C001', 'OrderDate': '2024-05-31', 'OrderID': 'O1008'}\n",
      "{'ProductCategory': 'Furniture', 'Quantity': Decimal('1'), 'TotalAmount': '250.0', 'CustomerID': 'C001', 'OrderDate': '2024-06-02', 'OrderID': 'O1011'}\n",
      "{'ProductCategory': 'Clothing', 'Quantity': Decimal('3'), 'TotalAmount': '180.0', 'CustomerID': 'C001', 'OrderDate': '2024-06-03', 'OrderID': 'O1014'}\n",
      "{'ProductCategory': 'Electronics', 'Quantity': Decimal('1'), 'TotalAmount': '300.0', 'CustomerID': 'C001', 'OrderDate': '2024-06-05', 'OrderID': 'O1017'}\n",
      "{'ProductCategory': 'Books', 'Quantity': Decimal('4'), 'TotalAmount': '275.0', 'CustomerID': 'C001', 'OrderDate': '2024-06-06', 'OrderID': 'O1020'}\n",
      "{'ProductCategory': 'Furniture', 'Quantity': Decimal('1'), 'TotalAmount': '300.0', 'CustomerID': 'C001', 'OrderDate': '2024-06-08', 'OrderID': 'O1023'}\n",
      "{'ProductCategory': 'Clothing', 'Quantity': Decimal('4'), 'TotalAmount': '350.0', 'CustomerID': 'C001', 'OrderDate': '2024-06-09', 'OrderID': 'O1026'}\n",
      "{'ProductCategory': 'Electronics', 'Quantity': Decimal('2'), 'TotalAmount': '400.0', 'CustomerID': 'C001', 'OrderDate': '2024-06-11', 'OrderID': 'O1029'}\n",
      "{'ProductCategory': 'Books', 'Quantity': Decimal('5'), 'TotalAmount': '500.0', 'CustomerID': 'C001', 'OrderDate': '2024-06-12', 'OrderID': 'O1032'}\n"
     ]
    }
   ],
   "source": [
    "\n",
    "# Query the data for a specific customer\n",
    "customer_id = 'C001'\n",
    "items = query_data(customer_id)\n",
    "print(\"Query results for CustomerID = C001:\")\n",
    "for item in items:\n",
    "    print(item)"
   ]
  },
  {
   "cell_type": "code",
   "execution_count": null,
   "id": "ace04bbf",
   "metadata": {},
   "outputs": [],
   "source": []
  },
  {
   "cell_type": "code",
   "execution_count": null,
   "id": "9e6a1487",
   "metadata": {},
   "outputs": [],
   "source": []
  },
  {
   "cell_type": "code",
   "execution_count": null,
   "id": "802a3910",
   "metadata": {},
   "outputs": [],
   "source": []
  },
  {
   "cell_type": "code",
   "execution_count": 8,
   "id": "e98008f7",
   "metadata": {},
   "outputs": [
    {
     "name": "stdout",
     "output_type": "stream",
     "text": [
      "\n",
      "Query results for ProductCategory = Electronics between 2024-05-27 and 2024-06-29:\n",
      "{'TotalAmount': '250.75', 'ProductCategory': 'Electronics', 'Quantity': Decimal('1'), 'CustomerID': 'C001', 'OrderID': 'O1001', 'OrderDate': '2024-05-27'}\n",
      "{'TotalAmount': '200.0', 'ProductCategory': 'Electronics', 'Quantity': Decimal('1'), 'CustomerID': 'C002', 'OrderID': 'O1004', 'OrderDate': '2024-05-29'}\n",
      "{'TotalAmount': '500.0', 'ProductCategory': 'Electronics', 'Quantity': Decimal('1'), 'CustomerID': 'C003', 'OrderID': 'O1010', 'OrderDate': '2024-06-01'}\n",
      "{'TotalAmount': '400.0', 'ProductCategory': 'Electronics', 'Quantity': Decimal('2'), 'CustomerID': 'C003', 'OrderID': 'O1013', 'OrderDate': '2024-06-03'}\n",
      "{'TotalAmount': '300.0', 'ProductCategory': 'Electronics', 'Quantity': Decimal('1'), 'CustomerID': 'C001', 'OrderID': 'O1017', 'OrderDate': '2024-06-05'}\n",
      "{'TotalAmount': '225.0', 'ProductCategory': 'Electronics', 'Quantity': Decimal('1'), 'CustomerID': 'C002', 'OrderID': 'O1021', 'OrderDate': '2024-06-07'}\n",
      "{'TotalAmount': '450.0', 'ProductCategory': 'Electronics', 'Quantity': Decimal('2'), 'CustomerID': 'C003', 'OrderID': 'O1025', 'OrderDate': '2024-06-09'}\n",
      "{'TotalAmount': '400.0', 'ProductCategory': 'Electronics', 'Quantity': Decimal('2'), 'CustomerID': 'C001', 'OrderID': 'O1029', 'OrderDate': '2024-06-11'}\n",
      "{'TotalAmount': '550.0', 'ProductCategory': 'Electronics', 'Quantity': Decimal('1'), 'CustomerID': 'C002', 'OrderID': 'O1033', 'OrderDate': '2024-06-13'}\n"
     ]
    }
   ],
   "source": [
    "\n",
    "# Query the data using the secondary index\n",
    "category = 'Electronics'\n",
    "start_date = '2024-05-27'\n",
    "end_date = '2024-06-29'\n",
    "items = query_secondary_index(category, start_date, end_date)\n",
    "print(f\"\\nQuery results for ProductCategory = {category} between {start_date} and {end_date}:\")\n",
    "for item in items:\n",
    "    print(item)"
   ]
  },
  {
   "cell_type": "code",
   "execution_count": null,
   "id": "e2dec499",
   "metadata": {},
   "outputs": [],
   "source": []
  },
  {
   "cell_type": "code",
   "execution_count": null,
   "id": "610f5730",
   "metadata": {},
   "outputs": [],
   "source": []
  },
  {
   "cell_type": "code",
   "execution_count": null,
   "id": "7b231d54",
   "metadata": {},
   "outputs": [],
   "source": []
  },
  {
   "cell_type": "code",
   "execution_count": null,
   "id": "861568c6",
   "metadata": {},
   "outputs": [],
   "source": []
  }
 ],
 "metadata": {
  "kernelspec": {
   "display_name": "Python 3 (ipykernel)",
   "language": "python",
   "name": "python3"
  },
  "language_info": {
   "codemirror_mode": {
    "name": "ipython",
    "version": 3
   },
   "file_extension": ".py",
   "mimetype": "text/x-python",
   "name": "python",
   "nbconvert_exporter": "python",
   "pygments_lexer": "ipython3",
   "version": "3.11.5"
  }
 },
 "nbformat": 4,
 "nbformat_minor": 5
}
